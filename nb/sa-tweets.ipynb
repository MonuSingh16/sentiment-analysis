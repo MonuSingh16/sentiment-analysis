{
 "cells": [
  {
   "cell_type": "code",
   "execution_count": 2,
   "metadata": {},
   "outputs": [
    {
     "name": "stdout",
     "output_type": "stream",
     "text": [
      "Note: you may need to restart the kernel to use updated packages.\n"
     ]
    }
   ],
   "source": [
    "%pip install -q transformers tweepy wordcloud matplotlib"
   ]
  },
  {
   "cell_type": "code",
   "execution_count": null,
   "metadata": {},
   "outputs": [],
   "source": [
    "import tweepy\n",
    "\n",
    "# Add Twitter API key and secret\n",
    "consumer_key = \"XXX\"\n",
    "consumer_secret = \"XXX\"\n",
    "\n",
    "# Handling authentication with Twitter\n",
    "auth = tweepy.AppAuthHandler(consumer_key, consumer_secret)\n",
    "\n",
    "# Create a wrapper for the Twitter API\n",
    "api = tweepy.API(auth, wait_on_rate_limit=True, wait_on_rate_limit_notify=True)"
   ]
  },
  {
   "cell_type": "code",
   "execution_count": null,
   "metadata": {},
   "outputs": [],
   "source": [
    "# Helper function for handling pagination in our search and handle rate limits\n",
    "def limit_handled(cursor):\n",
    "    while True:\n",
    "        try:\n",
    "            yield cursor.next()\n",
    "        except tweepy.RateLimitError:\n",
    "            print('Reached rate limite. Sleeping for >15 minutes')\n",
    "            time.sleep(15 * 61)\n",
    "        except StopIteration:\n",
    "            break\n",
    "\n",
    "# Define the term we will be using for searching tweets\n",
    "query = '#NFTs'\n",
    "query = query + ' -filter:retweets'\n",
    "\n",
    "# Define how many tweets to get from the Twitter API \n",
    "count = 1000\n",
    "\n",
    "# Let's search for tweets using Tweepy \n",
    "search = limit_handled(tweepy.Cursor(api.search,\n",
    "                        q=query,\n",
    "                        tweet_mode='extended',\n",
    "                        lang='en',\n",
    "                        result_type=\"recent\").items(count))"
   ]
  },
  {
   "cell_type": "code",
   "execution_count": null,
   "metadata": {},
   "outputs": [],
   "source": [
    "from transformers import pipeline\n",
    "\n",
    "# Set up the inference pipeline using a model from the 🤗 Hub\n",
    "sentiment_analysis = pipeline(model=\"finiteautomata/bertweet-base-sentiment-analysis\")\n",
    "\n",
    "# Let's run the sentiment analysis on each tweet\n",
    "tweets = []\n",
    "for tweet in search:\n",
    "    try: \n",
    "      content = tweet.full_text\n",
    "      sentiment = sentiment_analysis(content)\n",
    "      tweets.append({'tweet': content, 'sentiment': sentiment[0]['label']})\n",
    "\n",
    "    except: \n",
    "      pass"
   ]
  },
  {
   "cell_type": "code",
   "execution_count": null,
   "metadata": {},
   "outputs": [],
   "source": [
    "import pandas as pd\n",
    "\n",
    "# Load the data in a dataframe\n",
    "pd.set_option('max_colwidth', None)\n",
    "pd.set_option('display.width', 3000) \n",
    "df = pd.DataFrame(tweets)\n",
    "\n",
    "# Show a tweet for each sentiment \n",
    "display(df[df[\"sentiment\"] == 'POS'].head(1))\n",
    "display(df[df[\"sentiment\"] == 'NEU'].head(1))\n",
    "display(df[df[\"sentiment\"] == 'NEG'].head(1))"
   ]
  },
  {
   "cell_type": "code",
   "execution_count": null,
   "metadata": {},
   "outputs": [],
   "source": [
    "import matplotlib.pyplot as plt\n",
    "\n",
    "# Let's count the number of tweets by sentiments\n",
    "sentiment_counts = df.groupby(['sentiment']).size()\n",
    "print(sentiment_counts)\n",
    "\n",
    "\n",
    "# Let's visualize the sentiments\n",
    "fig = plt.figure(figsize=(6,6), dpi=100)\n",
    "ax = plt.subplot(111)\n",
    "sentiment_counts.plot.pie(ax=ax, autopct='%1.1f%%', startangle=270, fontsize=12, label=\"\")"
   ]
  },
  {
   "cell_type": "code",
   "execution_count": null,
   "metadata": {},
   "outputs": [],
   "source": [
    "from wordcloud import WordCloud\n",
    "from wordcloud import STOPWORDS\n",
    "\n",
    "# Wordcloud with positive tweets\n",
    "positive_tweets = df['tweet'][df[\"sentiment\"] == 'POS']\n",
    "stop_words = [\"https\", \"co\", \"RT\"] + list(STOPWORDS)\n",
    "positive_wordcloud = WordCloud(max_font_size=50, max_words=30, background_color=\"white\", stopwords = stop_words).generate(str(positive_tweets))\n",
    "plt.figure()\n",
    "plt.title(\"Positive Tweets - Wordcloud\")\n",
    "plt.imshow(positive_wordcloud, interpolation=\"bilinear\")\n",
    "plt.axis(\"off\")\n",
    "plt.show()\n",
    "\n",
    "# Wordcloud with negative tweets\n",
    "negative_tweets = df['tweet'][df[\"sentiment\"] == 'NEG']\n",
    "stop_words = [\"https\", \"co\", \"RT\"] + list(STOPWORDS)\n",
    "negative_wordcloud = WordCloud(max_font_size=50, max_words=30, background_color=\"white\", stopwords = stop_words).generate(str(negative_tweets))\n",
    "plt.figure()\n",
    "plt.title(\"Negative Tweets - Wordcloud\")\n",
    "plt.imshow(negative_wordcloud, interpolation=\"bilinear\")\n",
    "plt.axis(\"off\")\n",
    "plt.show()"
   ]
  }
 ],
 "metadata": {
  "kernelspec": {
   "display_name": "Python 3.9.12 ('venv-sa')",
   "language": "python",
   "name": "python3"
  },
  "language_info": {
   "codemirror_mode": {
    "name": "ipython",
    "version": 3
   },
   "file_extension": ".py",
   "mimetype": "text/x-python",
   "name": "python",
   "nbconvert_exporter": "python",
   "pygments_lexer": "ipython3",
   "version": "3.9.12"
  },
  "orig_nbformat": 4,
  "vscode": {
   "interpreter": {
    "hash": "58a1f3beba581acd4c6632f9dd5e6882a57b8a8b62de6d2794a3b7b45c88866b"
   }
  }
 },
 "nbformat": 4,
 "nbformat_minor": 2
}
